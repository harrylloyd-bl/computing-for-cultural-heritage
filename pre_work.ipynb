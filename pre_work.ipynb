{
 "cells": [
  {
   "cell_type": "markdown",
   "id": "374deaf6-44d6-4f3f-a27f-833781eec98c",
   "metadata": {},
   "source": [
    "# Hack & Yack Course Pre-Work"
   ]
  },
  {
   "cell_type": "markdown",
   "id": "4d6d861f-c3c0-40f7-8c0a-939d91fc8a18",
   "metadata": {},
   "source": [
    "Hello, welcome to the pre-work for the July 2025 Hack & Yack, Computing for Cultural Heritage 2.0: Part One - Intro to Python. This pre-work is designed to familiarise you with some of the concepts we'll use during the session next week. Completing it will make it easier for you to make progress on the project exercises, and make better use of the in-person/online teaching time, so we do recommend you do it! It should take 15 minutes or so."
   ]
  },
  {
   "cell_type": "markdown",
   "id": "3bfca2a6-dea1-4a9a-b83d-660bbe3b7d97",
   "metadata": {},
   "source": [
    "### Learning Objectives "
   ]
  },
  {
   "cell_type": "markdown",
   "id": "a816b702-4a89-484d-9f75-19079be584e5",
   "metadata": {},
   "source": [
    "- Writing and running python code in a JupyterLab notebook\n",
    "- How to create Python variables\n",
    "- What a function is and what a method is\n",
    "- Creating and interacting with Python data types and data structures\n",
    "    - String and integer data types\n",
    "    - Lists\n",
    "    - Dictionaries"
   ]
  },
  {
   "cell_type": "markdown",
   "id": "ea988d59-bc61-41d6-a4ee-6acd1834f56d",
   "metadata": {},
   "source": [
    "Important terms will be introduced in _italics_, and code used in text will be in a `code block`."
   ]
  },
  {
   "cell_type": "markdown",
   "id": "da4744e6-07f0-439b-8453-0955247cd2dc",
   "metadata": {},
   "source": [
    "## JupyterLab and Jupyter notebooks"
   ]
  },
  {
   "cell_type": "markdown",
   "id": "a4695544-a42a-4209-9142-667f07921c95",
   "metadata": {},
   "source": [
    "The interface you are looking at is called JupyterLab. This is the interface that the pre-work and the main session will use for teaching. JupyterLab brings together documents and activities such as Jupyter _notebooks_, text editors, and csv viewers in a flexible way. Jupyter notebooks are the technology that JupyterLab grew out of. This text and code are written in a notebook, and JupyterLab is one way of interacting with notebooks. There's a nice brief tour of JupyterLab and a notebook in the Jupyter [demo](https://jupyter.org/try-jupyter/lab?path=notebooks%2FIntro.ipynb). Do this now, it will take two minutes. The tours can be found in the help tab if the popups don't show."
   ]
  },
  {
   "cell_type": "markdown",
   "id": "e171de49-e88a-4cbe-999c-ef73fba9767f",
   "metadata": {},
   "source": [
    "There are three important thing to know for now. First, notebooks are made up of _cells_ which generally contain either text (markdown) or code. This text is written in a markdown cell. Below this cell is a code cell. Code cells rely on a program to run the code called a _kernel_, which sets the programming language used in the cell. We will use the Python programming language. Code cells contain code, and show output from running the last line of code below it. In this case we ran 2 + 2, and the output, 4, shows beneath."
   ]
  },
  {
   "cell_type": "code",
   "execution_count": 1,
   "id": "dc3df17b-dba5-4753-ba3c-50abb4cd3530",
   "metadata": {},
   "outputs": [
    {
     "data": {
      "text/plain": [
       "4"
      ]
     },
     "execution_count": 1,
     "metadata": {},
     "output_type": "execute_result"
    }
   ],
   "source": [
    "2 + 2"
   ]
  },
  {
   "cell_type": "markdown",
   "id": "806af27e-af99-476c-b3b8-0e84b1ba12f7",
   "metadata": {},
   "source": [
    "The second important thing to know is that you run code cells by either:\n",
    "- clicking the play button at the top of the notebook\n",
    "- clicking a cell and using a keyboard shortcut: ctrl + enter (cursor remains in the active cell) or shift + enter (cursor shifts to the next cell)\n",
    "\n",
    "Run the code cell below using whatever feels most natural to you."
   ]
  },
  {
   "cell_type": "code",
   "execution_count": null,
   "id": "3bc1f627-6666-42e6-8b89-ca712f928e51",
   "metadata": {},
   "outputs": [],
   "source": [
    "print(\"Hello world!\")"
   ]
  },
  {
   "cell_type": "markdown",
   "id": "d2a60ccd-63c4-4d9b-b830-9df354c58c70",
   "metadata": {},
   "source": [
    "Each line in a cell is run sequentially, to display the outputs of lines before the last, use `print()`"
   ]
  },
  {
   "cell_type": "code",
   "execution_count": null,
   "id": "50af19e3-f9f2-48df-ad71-3d28758bdaac",
   "metadata": {},
   "outputs": [],
   "source": [
    "print(2 + 2)  # The first line of the cell\n",
    "\"Spam and Eggs\"  # The second line\n",
    "print(\"The final line\")  # The third line"
   ]
  },
  {
   "cell_type": "markdown",
   "id": "c264b821-cc1b-4086-b97a-bcf23104d570",
   "metadata": {},
   "source": [
    "Third, to add new cells click to the left of the active cell, between the blue bar and the cell, this will put you into _command mode_, whereas clicking in the cell puts you in _edit_ mode. Once in command mode press the 'a' key to add a cell **a**bove the current cell, and the 'b' key to add a cell **b**elow it.\n",
    "\n",
    "Add cells at any point to this notebook to try out the material for yourself, or type further code in existing cells."
   ]
  },
  {
   "cell_type": "markdown",
   "id": "d1cc01ee-cd24-4317-b39b-e92fda4c1506",
   "metadata": {
    "jp-MarkdownHeadingCollapsed": true
   },
   "source": [
    "## Python as a calculator (optional)"
   ]
  },
  {
   "cell_type": "markdown",
   "id": "fcad42eb-556d-41a9-86af-c0d42c01c368",
   "metadata": {},
   "source": [
    "One of the easiest uses for Python is as a calculator where you can write out your sum. The result of a cell prints automatically, so you don't even need to use the print() function."
   ]
  },
  {
   "cell_type": "code",
   "execution_count": null,
   "id": "58f0e881-7ccd-494e-8313-47838d901216",
   "metadata": {},
   "outputs": [],
   "source": [
    "# Addition with a '+', subtraction with a '-'\n",
    "14 + 9"
   ]
  },
  {
   "cell_type": "code",
   "execution_count": null,
   "id": "a705beee-ac09-497b-a961-4207defd1fc9",
   "metadata": {},
   "outputs": [],
   "source": [
    "# Multiplication with a '*', division with a '/'\n",
    "# How many days of leave do I have?\n",
    "78 / 7.2"
   ]
  },
  {
   "cell_type": "markdown",
   "id": "e0813286-d873-4a3d-9530-f4cae96fd7ef",
   "metadata": {},
   "source": [
    "## Python variables"
   ]
  },
  {
   "cell_type": "markdown",
   "id": "4610981c-3250-4712-afbe-2e864877006c",
   "metadata": {},
   "source": [
    "Computer programs are both a way for us to get computers to do things, and a way to explain the logic we've used to solve a problem. As we go through the steps of a program we manipulate pieces of information to achieve our goal, and we keep track of these pieces of information using _variables_. Define them using `=`"
   ]
  },
  {
   "cell_type": "code",
   "execution_count": null,
   "id": "bda886fe-3c5e-4ace-8a6c-6d095937f9c7",
   "metadata": {},
   "outputs": [],
   "source": [
    "my_variable = 3\n",
    "print(my_variable)"
   ]
  },
  {
   "cell_type": "code",
   "execution_count": null,
   "id": "ad3f1e4d-567e-4ea7-b33f-cf7e32766747",
   "metadata": {},
   "outputs": [],
   "source": [
    "# Update a variable\n",
    "my_variable = 6\n",
    "print(my_variable)"
   ]
  },
  {
   "cell_type": "code",
   "execution_count": null,
   "id": "7e6b344c-847d-4936-a748-8d26f5f32324",
   "metadata": {},
   "outputs": [],
   "source": [
    "# Perform any operation with a variable that is valid for object the variable holds\n",
    "my_second_var = my_variable + 12\n",
    "print(my_second_var)"
   ]
  },
  {
   "cell_type": "markdown",
   "id": "8a63df1a-ecbf-4534-b2bc-843628b2990b",
   "metadata": {},
   "source": [
    "## Data types"
   ]
  },
  {
   "cell_type": "markdown",
   "id": "7660e762-ce9a-4601-a43b-bada3a25e06a",
   "metadata": {},
   "source": [
    "There are a range of different types of data available in Python."
   ]
  },
  {
   "cell_type": "markdown",
   "id": "6d403899-e4e8-4a96-ae1c-b62913d5d9c4",
   "metadata": {},
   "source": [
    "### Integers"
   ]
  },
  {
   "cell_type": "markdown",
   "id": "cd8ddda7-0ccc-4956-a034-bcb9defd647e",
   "metadata": {},
   "source": [
    "The most basic numerical type is the _integer_. Any number without a decimal point is an integer"
   ]
  },
  {
   "cell_type": "code",
   "execution_count": null,
   "id": "84508bad-02db-4f0d-8cd7-e753f6e1a00c",
   "metadata": {},
   "outputs": [],
   "source": [
    "x = 3\n",
    "type(x)"
   ]
  },
  {
   "cell_type": "markdown",
   "id": "617eb0b6-8ac8-42fb-a09c-8a97b28acb84",
   "metadata": {},
   "source": [
    "### Strings"
   ]
  },
  {
   "cell_type": "markdown",
   "id": "cb73ae74-bcac-4da7-9f51-035a80c1ca94",
   "metadata": {},
   "source": [
    "When you printed the \"Hello world\" text earlier you were using the basic Python text data type, called a _string_. Strings are defined by putting text inside either single or double inverted commas `'`/`\"` (apostrophe/quotation mark). Use either `'` or `\"`, just be consistent within an individual program/notebook."
   ]
  },
  {
   "cell_type": "code",
   "execution_count": null,
   "id": "acc45854-b97b-46e0-a7bb-2abd93da792a",
   "metadata": {},
   "outputs": [],
   "source": [
    "message = \"What do you like?\"\n",
    "response = 'Spam'\n",
    "print(message)\n",
    "print(response)"
   ]
  },
  {
   "cell_type": "markdown",
   "id": "cbcb1f29-2dae-4373-86fb-3dd4abf9c8f1",
   "metadata": {},
   "source": [
    "Two helpful ways of packaging up code we want to use again and again in Python are _functions_ and _methods_. `print()` is one example of a function. You write the name of the function `print` then a pair of round brackets `()`, which is where you put any _arguments_ you want to _pass_ to the function. The function takes the arguments, does something to them, and _returns_ a result."
   ]
  },
  {
   "cell_type": "markdown",
   "id": "9ac8b0e3-087c-461b-a4ab-22a55e249453",
   "metadata": {},
   "source": [
    "`len()` is a very useful function. It takes an object as it's input and returns the length of it. For strings this means the number of characters in the string."
   ]
  },
  {
   "cell_type": "code",
   "execution_count": null,
   "id": "8e2cf6ec-c10e-4164-b176-534cd352b545",
   "metadata": {},
   "outputs": [],
   "source": [
    "# length of string\n",
    "len(response)"
   ]
  },
  {
   "cell_type": "markdown",
   "id": "78aa3df2-4082-4a31-90ce-0ad3fc9a7d40",
   "metadata": {},
   "source": [
    "#### Functions and Methods"
   ]
  },
  {
   "cell_type": "markdown",
   "id": "3c6a709d-39d8-4fa3-a188-05f76738cf3e",
   "metadata": {},
   "source": [
    "Methods are functions that 'belong' to _objects_. String methods are methods that all strings have because they are strings. We call methods using a `.` after an object, then the method name, and the same round brackets as a function, which is where any arguments go. Many methods don't require arguments because the object the method belongs to is used as the argument."
   ]
  },
  {
   "cell_type": "code",
   "execution_count": null,
   "id": "30d5b1c4-f981-481a-b098-3960bff3bf34",
   "metadata": {},
   "outputs": [],
   "source": [
    "# Make upper-case. See also str.lower()\n",
    "response.upper()"
   ]
  },
  {
   "cell_type": "code",
   "execution_count": null,
   "id": "cc6e6fc1-7620-4183-9d9b-5e9351c7c33c",
   "metadata": {},
   "outputs": [],
   "source": [
    "# Capitalize. See also str.title()\n",
    "message.capitalize()"
   ]
  },
  {
   "cell_type": "code",
   "execution_count": null,
   "id": "44e485e7-9b80-48ad-9d55-1f3d1f2d620c",
   "metadata": {},
   "outputs": [],
   "source": [
    "# concatenation with +\n",
    "message + \" \" + response"
   ]
  },
  {
   "cell_type": "code",
   "execution_count": null,
   "id": "dde14725-9814-4d7f-b3ba-528502b9bb5a",
   "metadata": {},
   "outputs": [],
   "source": [
    "# Split strings\n",
    "message.split()"
   ]
  },
  {
   "cell_type": "markdown",
   "id": "da484a1a-e70a-4a59-89fa-b3227b4a4205",
   "metadata": {},
   "source": [
    "`split()` takes two arguments, then string to split and a seperator. By default the separator is a space, and the string the split method is called on is always the string that is split. Try and figure out how to split the history text string below on the `.` instead. "
   ]
  },
  {
   "cell_type": "code",
   "execution_count": null,
   "id": "dbca7f6e-3efe-42e8-b12b-786eb4418b7b",
   "metadata": {},
   "outputs": [],
   "source": [
    "history_text = \"Voyages: (1) 1748/9 Bombay. Capt Benjamin Braund. Downs 26 Mar 1749 - 5 Jul Johanna\""
   ]
  },
  {
   "cell_type": "code",
   "execution_count": null,
   "id": "cf49b3db-2df5-4cb4-8eb0-1a2b6a0f031a",
   "metadata": {},
   "outputs": [],
   "source": [
    "### Your code here"
   ]
  },
  {
   "cell_type": "markdown",
   "id": "80eeadba-8b6a-456f-a36a-fe72ffc97051",
   "metadata": {},
   "source": [
    "#### Indexing"
   ]
  },
  {
   "cell_type": "markdown",
   "id": "f900c91b-ec18-4c1e-9b91-e52b6b3506d3",
   "metadata": {},
   "source": [
    "We call getting a part of a larger object in Python _indexing_. Mainly this is done by putting integers in square brackets after an object. Python indexing is _zero-based_, we count from zero, so what we might refer to as the 'first' character in a string in conversation is the 'zeroth' in Python."
   ]
  },
  {
   "cell_type": "code",
   "execution_count": null,
   "id": "b92d49c7-72cf-4a57-adf6-e33d082231be",
   "metadata": {},
   "outputs": [],
   "source": [
    "# Access individual characters (zero-based indexing)\n",
    "history_text[0]"
   ]
  },
  {
   "cell_type": "code",
   "execution_count": null,
   "id": "f68e74c0-52cd-45b9-838b-7c88b009dee1",
   "metadata": {},
   "outputs": [],
   "source": [
    "# Access a range\n",
    "history_text[0:7]"
   ]
  },
  {
   "cell_type": "markdown",
   "id": "92646064-02af-49cd-aea3-ca25dff0edbd",
   "metadata": {},
   "source": [
    "Strings are _immutable_, which means we can't change any of the elements of a string."
   ]
  },
  {
   "cell_type": "code",
   "execution_count": null,
   "id": "a1a6fa44-6e3c-4378-acfb-7012de70a393",
   "metadata": {},
   "outputs": [],
   "source": [
    "s = \"0123456789\"\n",
    "s[0] = \"1\""
   ]
  },
  {
   "cell_type": "markdown",
   "id": "a7686d68-a667-48b7-8399-d2f20f24cac0",
   "metadata": {},
   "source": [
    "Reassign a variable or create a new one if you need a different string."
   ]
  },
  {
   "cell_type": "code",
   "execution_count": null,
   "id": "2505c1cd-01ec-4c39-956c-b110b64c157e",
   "metadata": {},
   "outputs": [],
   "source": [
    "s = \"1123456789\""
   ]
  },
  {
   "cell_type": "markdown",
   "id": "2a59394f-7ad7-4aad-9d35-7a9bf15fd48e",
   "metadata": {
    "jp-MarkdownHeadingCollapsed": true
   },
   "source": [
    "### Other data types (optional)"
   ]
  },
  {
   "cell_type": "markdown",
   "id": "f37a8972-cad2-4778-a2fd-72bd61610db5",
   "metadata": {},
   "source": [
    "For information, these are all the basic data types. We'll mainly use int/str for the Hack & Yack.  "
   ]
  },
  {
   "cell_type": "markdown",
   "id": "f1143aba-7f07-411a-b8f2-f4a122953b5f",
   "metadata": {},
   "source": [
    "| Type        | Example        | Description                                                  |\n",
    "|-------------|----------------|--------------------------------------------------------------|\n",
    "| ``int``     | ``x = 1``      | integers (i.e., whole numbers)                               |\n",
    "| ``float``   | ``x = 1.0``    | floating-point numbers (i.e., real numbers)                  |\n",
    "| ``complex`` | ``x = 1 + 2j`` | Complex numbers (i.e., numbers with real and imaginary part) |\n",
    "| ``bool``    | ``x = True``   | Boolean: True/False values                                   |\n",
    "| ``str``     | ``x = 'abc'``  | String: characters or text                                   |\n",
    "| ``NoneType``| ``x = None``   | Special object indicating nulls                              |"
   ]
  },
  {
   "cell_type": "markdown",
   "id": "08dbfd6e-f34f-4623-bbb4-761623dd620b",
   "metadata": {},
   "source": [
    "## Data structures"
   ]
  },
  {
   "cell_type": "markdown",
   "id": "253d6aa8-d788-4f29-be85-b0a2b5e47917",
   "metadata": {},
   "source": [
    "There are a range of different ways of organising data in Python"
   ]
  },
  {
   "cell_type": "markdown",
   "id": "aaf221e0-61d0-43d8-a025-68d60bf55033",
   "metadata": {},
   "source": [
    "### Lists"
   ]
  },
  {
   "cell_type": "markdown",
   "id": "8684bcf2-ba45-43f2-805e-879fd6629006",
   "metadata": {},
   "source": [
    "Lists are one of the simplest data structures. We define them using square brackets `[]` or by calling the `list()` function explicitly. They're valuable when you need an ordered list of things that don't have obvious names."
   ]
  },
  {
   "cell_type": "code",
   "execution_count": null,
   "id": "252efce5-3d71-420d-8e3d-c2c5e30e93ff",
   "metadata": {},
   "outputs": [],
   "source": [
    "my_list = [0,1,2]\n",
    "my_list"
   ]
  },
  {
   "cell_type": "code",
   "execution_count": null,
   "id": "6e2e755b-8aa5-4f35-862b-292460d4840f",
   "metadata": {},
   "outputs": [],
   "source": [
    "voyages = [\"(1) Bombay 1886\", \"(2) St Helena 1854\", \"(3) Calcutta 1873\"]\n",
    "voyages"
   ]
  },
  {
   "cell_type": "markdown",
   "id": "b59ecfb1-c03a-4d14-a28d-71c91fc68222",
   "metadata": {},
   "source": [
    "You can join a list of strings together with the `.join()` string method."
   ]
  },
  {
   "cell_type": "code",
   "execution_count": null,
   "id": "aabe7d4d-fd9e-4723-aef0-b2de9f3ea9ee",
   "metadata": {},
   "outputs": [],
   "source": [
    "\" \".join([\"Voyage\", \"(1)\", \"Captain:\", \"Rebecca\", \"Lawrence\"])"
   ]
  },
  {
   "cell_type": "markdown",
   "id": "8fc03305-6ec9-4b05-b378-7220e97d925e",
   "metadata": {},
   "source": [
    "### Dictionaries"
   ]
  },
  {
   "cell_type": "markdown",
   "id": "ba1f173a-df46-4259-ae42-4b1db5d0256a",
   "metadata": {},
   "source": [
    "Dictionaries are a _mapping_ data structure. They hold pairs of _keys_ and _values_. We define a dict using curly braces `{}`, or the `dict()` function. We index a dictionary using square brackets and a valid key to get the associated value. They're valuable when objects have obvious names associated with them that it makes sense to access those objects with."
   ]
  },
  {
   "cell_type": "code",
   "execution_count": null,
   "id": "1d65dae0-7bc7-4859-bc2e-b235aa1205f3",
   "metadata": {},
   "outputs": [],
   "source": [
    "my_dict = {0: 1, 1: 2}\n",
    "print(my_dict)\n",
    "print(my_dict[0])"
   ]
  },
  {
   "cell_type": "code",
   "execution_count": null,
   "id": "7a102d5c-807f-49f3-9a57-16080768f337",
   "metadata": {},
   "outputs": [],
   "source": [
    "ship_info = {\"ShipID\": \"045-001114649\", \"ShipName\": \"Boscawen\", \"History\": \"Rated at 499 tons, 26 guns, 99 crew.\"}\n",
    "ship_info[\"ShipName\"]"
   ]
  },
  {
   "cell_type": "markdown",
   "id": "90467078-5123-41ff-aaa3-4a38aa775233",
   "metadata": {},
   "source": [
    "This is the end of the pre-work, well done on familiarising yourself with the JupyterLab interface, variables, functions/methods, two data types (strings, integers), and two data structures (lists, dictionaries)."
   ]
  },
  {
   "cell_type": "markdown",
   "id": "54bcf445-f432-44af-b22f-dbf25e362e9a",
   "metadata": {},
   "source": [
    "Some material adapted from the [UEA/Cefas Python course 2024](https://github.com/ueapy/pythoncourse2024-materials/tree/main?tab=readme-ov-file) under a [Creative Commons Attribution 4.0 International\n",
    "License](http://creativecommons.org/licenses/by/4.0/).."
   ]
  }
 ],
 "metadata": {
  "kernelspec": {
   "display_name": "Python [conda env:cfch]",
   "language": "python",
   "name": "conda-env-cfch-py"
  },
  "language_info": {
   "codemirror_mode": {
    "name": "ipython",
    "version": 3
   },
   "file_extension": ".py",
   "mimetype": "text/x-python",
   "name": "python",
   "nbconvert_exporter": "python",
   "pygments_lexer": "ipython3",
   "version": "3.13.3"
  }
 },
 "nbformat": 4,
 "nbformat_minor": 5
}
